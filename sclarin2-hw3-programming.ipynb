{
 "cells": [
  {
   "cell_type": "markdown",
   "metadata": {},
   "source": [
    "## HW3: K Means Clustering"
   ]
  },
  {
   "cell_type": "code",
   "execution_count": 131,
   "metadata": {},
   "outputs": [
    {
     "data": {
      "text/html": [
       "<div>\n",
       "<style scoped>\n",
       "    .dataframe tbody tr th:only-of-type {\n",
       "        vertical-align: middle;\n",
       "    }\n",
       "\n",
       "    .dataframe tbody tr th {\n",
       "        vertical-align: top;\n",
       "    }\n",
       "\n",
       "    .dataframe thead th {\n",
       "        text-align: right;\n",
       "    }\n",
       "</style>\n",
       "<table border=\"1\" class=\"dataframe\">\n",
       "  <thead>\n",
       "    <tr style=\"text-align: right;\">\n",
       "      <th></th>\n",
       "      <th>College</th>\n",
       "      <th>Win_2015</th>\n",
       "      <th>Win_2017</th>\n",
       "      <th>Rank_2015</th>\n",
       "      <th>Rank_2017</th>\n",
       "    </tr>\n",
       "  </thead>\n",
       "  <tbody>\n",
       "    <tr>\n",
       "      <th>0</th>\n",
       "      <td>Alabama</td>\n",
       "      <td>12</td>\n",
       "      <td>11</td>\n",
       "      <td>2</td>\n",
       "      <td>4</td>\n",
       "    </tr>\n",
       "    <tr>\n",
       "      <th>1</th>\n",
       "      <td>Clemson</td>\n",
       "      <td>13</td>\n",
       "      <td>12</td>\n",
       "      <td>1</td>\n",
       "      <td>1</td>\n",
       "    </tr>\n",
       "    <tr>\n",
       "      <th>2</th>\n",
       "      <td>LSU</td>\n",
       "      <td>8</td>\n",
       "      <td>9</td>\n",
       "      <td>22</td>\n",
       "      <td>16</td>\n",
       "    </tr>\n",
       "    <tr>\n",
       "      <th>3</th>\n",
       "      <td>Michigan State</td>\n",
       "      <td>12</td>\n",
       "      <td>9</td>\n",
       "      <td>3</td>\n",
       "      <td>18</td>\n",
       "    </tr>\n",
       "    <tr>\n",
       "      <th>4</th>\n",
       "      <td>Northwestern</td>\n",
       "      <td>10</td>\n",
       "      <td>9</td>\n",
       "      <td>8</td>\n",
       "      <td>14</td>\n",
       "    </tr>\n",
       "    <tr>\n",
       "      <th>5</th>\n",
       "      <td>Notre Dame</td>\n",
       "      <td>10</td>\n",
       "      <td>9</td>\n",
       "      <td>8</td>\n",
       "      <td>14</td>\n",
       "    </tr>\n",
       "    <tr>\n",
       "      <th>6</th>\n",
       "      <td>Ohio State</td>\n",
       "      <td>11</td>\n",
       "      <td>11</td>\n",
       "      <td>7</td>\n",
       "      <td>5</td>\n",
       "    </tr>\n",
       "    <tr>\n",
       "      <th>7</th>\n",
       "      <td>Oklahoma</td>\n",
       "      <td>11</td>\n",
       "      <td>12</td>\n",
       "      <td>4</td>\n",
       "      <td>2</td>\n",
       "    </tr>\n",
       "    <tr>\n",
       "      <th>8</th>\n",
       "      <td>Oklahoma State</td>\n",
       "      <td>10</td>\n",
       "      <td>9</td>\n",
       "      <td>13</td>\n",
       "      <td>17</td>\n",
       "    </tr>\n",
       "    <tr>\n",
       "      <th>9</th>\n",
       "      <td>Stanford</td>\n",
       "      <td>11</td>\n",
       "      <td>9</td>\n",
       "      <td>5</td>\n",
       "      <td>15</td>\n",
       "    </tr>\n",
       "    <tr>\n",
       "      <th>10</th>\n",
       "      <td>TCU</td>\n",
       "      <td>10</td>\n",
       "      <td>10</td>\n",
       "      <td>11</td>\n",
       "      <td>13</td>\n",
       "    </tr>\n",
       "    <tr>\n",
       "      <th>11</th>\n",
       "      <td>Wisconsin</td>\n",
       "      <td>9</td>\n",
       "      <td>12</td>\n",
       "      <td>23</td>\n",
       "      <td>6</td>\n",
       "    </tr>\n",
       "  </tbody>\n",
       "</table>\n",
       "</div>"
      ],
      "text/plain": [
       "           College  Win_2015  Win_2017  Rank_2015  Rank_2017\n",
       "0          Alabama        12        11          2          4\n",
       "1          Clemson        13        12          1          1\n",
       "2              LSU         8         9         22         16\n",
       "3   Michigan State        12         9          3         18\n",
       "4     Northwestern        10         9          8         14\n",
       "5       Notre Dame        10         9          8         14\n",
       "6       Ohio State        11        11          7          5\n",
       "7         Oklahoma        11        12          4          2\n",
       "8   Oklahoma State        10         9         13         17\n",
       "9         Stanford        11         9          5         15\n",
       "10             TCU        10        10         11         13\n",
       "11       Wisconsin         9        12         23          6"
      ]
     },
     "execution_count": 131,
     "metadata": {},
     "output_type": "execute_result"
    }
   ],
   "source": [
    "import pandas as pd\n",
    "import numpy as np\n",
    "df = pd.read_csv(\"data-hw3.txt\", delimiter=\"\\t\")\n",
    "df"
   ]
  },
  {
   "cell_type": "code",
   "execution_count": 132,
   "metadata": {},
   "outputs": [
    {
     "name": "stdout",
     "output_type": "stream",
     "text": [
      "Number of instances: 12\n",
      "objects: ['Alabama', 'Clemson', 'LSU', 'Michigan State', 'Northwestern', 'Notre Dame', 'Ohio State', 'Oklahoma', 'Oklahoma State', 'Stanford', 'TCU', 'Wisconsin'] =\n",
      "instances: [[12, 11, 2, 4], [13, 12, 1, 1], [8, 9, 22, 16], [12, 9, 3, 18], [10, 9, 8, 14], [10, 9, 8, 14], [11, 11, 7, 5], [11, 12, 4, 2], [10, 9, 13, 17], [11, 9, 5, 15], [10, 10, 11, 13], [9, 12, 23, 6]]\n"
     ]
    }
   ],
   "source": [
    "objects = []\n",
    "instances = []\n",
    "for instance in df.to_numpy():\n",
    "    objects.append(instance[0])\n",
    "    featureValues = list(instance[1:])\n",
    "    instances.append(featureValues)\n",
    "nInstances = len(instances)\n",
    "print(\"Number of instances:\", nInstances)\n",
    "print(f'objects: {objects} =')\n",
    "print(f'instances: {instances}')"
   ]
  },
  {
   "cell_type": "code",
   "execution_count": 133,
   "metadata": {},
   "outputs": [
    {
     "data": {
      "text/plain": [
       "array([[12, 11,  2,  4],\n",
       "       [13, 12,  1,  1],\n",
       "       [ 8,  9, 22, 16],\n",
       "       [12,  9,  3, 18],\n",
       "       [10,  9,  8, 14],\n",
       "       [10,  9,  8, 14],\n",
       "       [11, 11,  7,  5],\n",
       "       [11, 12,  4,  2],\n",
       "       [10,  9, 13, 17],\n",
       "       [11,  9,  5, 15],\n",
       "       [10, 10, 11, 13],\n",
       "       [ 9, 12, 23,  6]])"
      ]
     },
     "execution_count": 133,
     "metadata": {},
     "output_type": "execute_result"
    }
   ],
   "source": [
    "X = np.array(instances)\n",
    "X"
   ]
  },
  {
   "cell_type": "markdown",
   "metadata": {},
   "source": [
    "### Q1: Compare Initial Centroids"
   ]
  },
  {
   "cell_type": "code",
   "execution_count": 134,
   "metadata": {},
   "outputs": [
    {
     "data": {
      "text/plain": [
       "<matplotlib.collections.PathCollection at 0x122504b80>"
      ]
     },
     "execution_count": 134,
     "metadata": {},
     "output_type": "execute_result"
    },
    {
     "data": {
      "image/png": "[encoded data removed]",
      "text/plain": [
       "<Figure size 432x288 with 1 Axes>"
      ]
     },
     "metadata": {
      "needs_background": "light"
     },
     "output_type": "display_data"
    }
   ],
   "source": [
    "import matplotlib.pyplot as plt\n",
    "plt.scatter(X[:,0], X[:,1])"
   ]
  },
  {
   "cell_type": "code",
   "execution_count": 167,
   "metadata": {},
   "outputs": [
    {
     "name": "stdout",
     "output_type": "stream",
     "text": [
      "[11.75, 11.0]\n"
     ]
    }
   ],
   "source": [
    "def calculate_centroid( cluster):\n",
    "    C = [0, 0]\n",
    "    Xlist = []\n",
    "    Ylist = []\n",
    "    for item in cluster:\n",
    "        X, Y, i = item.split(\",\")\n",
    "        Xlist.append( int(X) )\n",
    "        Ylist.append( int(Y) )\n",
    "      \n",
    "    C[0] = sum(Xlist)/ len(Xlist)\n",
    "    C[1] = sum(Ylist)/ len(Ylist)\n",
    "\n",
    "    \n",
    "    return C\n",
    "\n",
    "test_cluster = ['12,11,0', '13,12, 1', '11,12, 2', '11,9,3']\n",
    "print( calculate_centroid( test_cluster))"
   ]
  },
  {
   "cell_type": "markdown",
   "metadata": {},
   "source": [
    "1) Initial centroids: (7, 7) and (14, 14)"
   ]
  },
  {
   "cell_type": "code",
   "execution_count": 190,
   "metadata": {},
   "outputs": [
    {
     "data": {
      "text/plain": [
       "array([[12, 11,  2,  4],\n",
       "       [13, 12,  1,  1],\n",
       "       [ 8,  9, 22, 16],\n",
       "       [12,  9,  3, 18],\n",
       "       [10,  9,  8, 14],\n",
       "       [10,  9,  8, 14],\n",
       "       [11, 11,  7,  5],\n",
       "       [11, 12,  4,  2],\n",
       "       [10,  9, 13, 17],\n",
       "       [11,  9,  5, 15],\n",
       "       [10, 10, 11, 13],\n",
       "       [ 9, 12, 23,  6]])"
      ]
     },
     "execution_count": 190,
     "metadata": {},
     "output_type": "execute_result"
    }
   ],
   "source": [
    "X = np.array(instances)\n",
    "X"
   ]
  },
  {
   "cell_type": "code",
   "execution_count": 192,
   "metadata": {},
   "outputs": [
    {
     "name": "stdout",
     "output_type": "stream",
     "text": [
      "Final centroid: [11.75, 11.5]\n",
      "Final centroid: [10.0, 9.5]\n",
      "2\n"
     ]
    }
   ],
   "source": [
    "## TODO: K Means clustering (K = 2, Euclidean distance)\n",
    "# features: Wins in 2015 (position 1) and wins in 2017 (position 2)\n",
    "from math import sqrt\n",
    "\n",
    "# set initial centroids\n",
    "C1 = [7, 7]\n",
    "C2 = [14, 14]\n",
    "    \n",
    "# initialize dictionary\n",
    "\n",
    "dict = {}\n",
    "for i in range( len(X)):\n",
    "    point = str(X[i, 0]) + \",\" + str(X[i, 1]) + \",\" + str(i)\n",
    "    #print(point)\n",
    "    dict[point] = [0, 0]\n",
    "\n",
    "cluster1 = []\n",
    "cluster2 = []\n",
    "clust1_copy = []\n",
    "clust2_copy = []\n",
    "change = True\n",
    "iterations = 0\n",
    "\n",
    "while change == True:\n",
    "\n",
    "    cluster1.clear()\n",
    "    cluster2.clear()\n",
    "    # keep all euclidean distances D1, D2 from point to C1, C2 in dict\n",
    "    # in form dict[ point] = [ D1, D2]\n",
    "    for i, point in enumerate(dict.keys()):\n",
    "        distance1 = sqrt( (X[i, 0]- C1[0])**2 + (X[i, 1] - C1[1])**2)\n",
    "        distance2 = sqrt( (X[i, 0]- C2[0])**2 + (X[i, 1] - C2[1])**2)\n",
    "        dict[point][0] = distance1\n",
    "        dict[point][1] = distance2\n",
    "    \n",
    "        if distance1 > distance2:\n",
    "            cluster1.append( point)\n",
    "        else:\n",
    "            cluster2.append( point)\n",
    "        \n",
    "        \n",
    "     # look to see if clustering changed\n",
    "    if clust1_copy == cluster1 and clust2_copy == cluster2 and iterations > 0:\n",
    "        change = False\n",
    "        \n",
    "    clust1_copy = cluster1\n",
    "    clust2_copy = cluster2\n",
    "    \n",
    "    # recalculate centroids\n",
    "    C1 = calculate_centroid( cluster1 )\n",
    "    C2 = calculate_centroid( cluster2 )\n",
    "    iterations += 1\n",
    "    \n",
    "#print(dict)\n",
    "print(f'Final centroid: {C2}')\n",
    "print(f'Final centroid: {C1}')\n",
    "print(f'iterations: {iterations}')"
   ]
  },
  {
   "cell_type": "code",
   "execution_count": 170,
   "metadata": {},
   "outputs": [
    {
     "name": "stdout",
     "output_type": "stream",
     "text": [
      " Cluster 1: [[8, 9], [12, 9], [10, 9], [10, 9], [10, 9], [11, 9], [10, 10], [9, 12]]\n",
      " Cluster 2: [[12, 11], [13, 12], [11, 11], [11, 12]]\n"
     ]
    },
    {
     "data": {
      "image/png": "[encoded data removed]",
      "text/plain": [
       "<Figure size 432x288 with 1 Axes>"
      ]
     },
     "metadata": {
      "needs_background": "light"
     },
     "output_type": "display_data"
    }
   ],
   "source": [
    "## TODO: Visualization\n",
    "cluster1_int = []\n",
    "cluster2_int = []\n",
    "\n",
    "for item in cluster1:\n",
    "    X, Y, i = item.split(\",\")\n",
    "    point = [int(X), int(Y)]\n",
    "    cluster1_int.append( point  )\n",
    "\n",
    "for item in cluster2:\n",
    "    X, Y, i = item.split(\",\")\n",
    "    point = [int(X), int(Y)]\n",
    "    cluster2_int.append( point  )\n",
    "\n",
    "A = np.array( cluster1_int)\n",
    "B = np.array( cluster2_int) \n",
    "C = np.concatenate( (A, B), axis=0)\n",
    "\n",
    "colormap = np.array([ 'red', 'blue'])\n",
    "categories = np.array([0,0,0,0,0,0,0,0,1,1,1,1])\n",
    "plt.scatter( C[:,0] , C[:, 1], c=colormap[categories])\n",
    "\n",
    "print(f' Cluster 1: {cluster1_int}')\n",
    "print(f' Cluster 2: {cluster2_int}')"
   ]
  },
  {
   "cell_type": "raw",
   "metadata": {},
   "source": [
    "Evaluation: final centroids (11.75, 11.5) and (10, 9.5)"
   ]
  },
  {
   "cell_type": "code",
   "execution_count": 193,
   "metadata": {
    "scrolled": true
   },
   "outputs": [
    {
     "name": "stdout",
     "output_type": "stream",
     "text": [
      "SSE for centroid (11.75,11.5) and (10.0, 9.5) is: 67.9375\n"
     ]
    }
   ],
   "source": [
    "# Accuracy = (TN + TP)/ (ALL)\n",
    "\n",
    "\n",
    "# SSE\n",
    "SSE = 0\n",
    "for item in cluster1_int:\n",
    "    x, y = item\n",
    "    SSE += ( (int(x)- 11.75)**2 +(int(y) - 11.5)**2 )\n",
    "\n",
    "for item in cluster2_int:\n",
    "    X, Y = item\n",
    "    SSE += ( (int(x)- 10)**2 +(int(y) - 9.5)**2 )\n",
    "    \n",
    "print(f'SSE for centroid (11.75,11.5) and (10.0, 9.5) is: {SSE}')"
   ]
  },
  {
   "cell_type": "markdown",
   "metadata": {},
   "source": [
    "2) Initial centroids: (7, 7) and (7, 14)"
   ]
  },
  {
   "cell_type": "code",
   "execution_count": 194,
   "metadata": {},
   "outputs": [
    {
     "data": {
      "text/plain": [
       "array([[12, 11,  2,  4],\n",
       "       [13, 12,  1,  1],\n",
       "       [ 8,  9, 22, 16],\n",
       "       [12,  9,  3, 18],\n",
       "       [10,  9,  8, 14],\n",
       "       [10,  9,  8, 14],\n",
       "       [11, 11,  7,  5],\n",
       "       [11, 12,  4,  2],\n",
       "       [10,  9, 13, 17],\n",
       "       [11,  9,  5, 15],\n",
       "       [10, 10, 11, 13],\n",
       "       [ 9, 12, 23,  6]])"
      ]
     },
     "execution_count": 194,
     "metadata": {},
     "output_type": "execute_result"
    }
   ],
   "source": [
    "X = np.array(instances)\n",
    "X"
   ]
  },
  {
   "cell_type": "code",
   "execution_count": 198,
   "metadata": {},
   "outputs": [
    {
     "name": "stdout",
     "output_type": "stream",
     "text": [
      "Final centroid: [11.2, 11.6]\n",
      "Final centroid: [10.142857142857142, 9.142857142857142]\n"
     ]
    }
   ],
   "source": [
    "## TODO: K Means clustering (K = 2, Euclidean distance)\n",
    "\n",
    "## TODO: K Means clustering (K = 2, Euclidean distance)\n",
    "# features: Wins in 2015 (position 1) and wins in 2017 (position 2)\n",
    "from math import sqrt\n",
    "\n",
    "# set initial centroids\n",
    "C1_v2 = [7, 7]\n",
    "C2_v2 = [7, 14]\n",
    "    \n",
    "# initialize dictionary\n",
    "dict = {}\n",
    "for i in range( len(X)):\n",
    "    point = str(X[i, 0]) + \",\" + str(X[i, 1]) + \",\" + str(i)\n",
    "    #print(point)\n",
    "    dict[point] = [0, 0]\n",
    "\n",
    "cluster1 = []\n",
    "cluster2 = []\n",
    "clust1_copy = []\n",
    "clust2_copy = []\n",
    "change = True\n",
    "iterations = 0\n",
    "\n",
    "while change == True:\n",
    "\n",
    "    cluster1.clear()\n",
    "    cluster2.clear()\n",
    "    # keep all euclidean distances D1, D2 from point to C1, C2 in dict\n",
    "    # in form dict[ point] = [ D1, D2]\n",
    "    for i,point in enumerate(dict.keys()):\n",
    "        distance1 = sqrt( (X[i, 0]- C1_v2[0])**2 + (X[i, 1] - C1_v2[1])**2)\n",
    "        distance2 = sqrt( (X[i, 0]- C2_v2[0])**2 + (X[i, 1] - C2_v2[1])**2)\n",
    "        dict[point][0] = distance1\n",
    "        dict[point][1] = distance2\n",
    "    \n",
    "        if distance1 > distance2:\n",
    "            cluster1.append( point)\n",
    "        else:\n",
    "            cluster2.append( point)\n",
    "        \n",
    "        \n",
    "     # look to see if clustering changed\n",
    "    if clust1_copy == cluster1 and clust2_copy == cluster2 and iterations > 0:\n",
    "        change = False\n",
    "        \n",
    "    clust1_copy = cluster1\n",
    "    clust2_copy = cluster2\n",
    "    \n",
    "    # recalculate centroids\n",
    "    C1_v2 = calculate_centroid( cluster1 )\n",
    "    C2_v2 = calculate_centroid( cluster2 )\n",
    "    iterations += 1\n",
    "    \n",
    "print(f'Final centroid: {C2_v2}')\n",
    "print(f'Final centroid: {C1_v2}')\n"
   ]
  },
  {
   "cell_type": "code",
   "execution_count": 201,
   "metadata": {},
   "outputs": [
    {
     "name": "stdout",
     "output_type": "stream",
     "text": [
      " Cluster 1: [[8, 9], [12, 9], [10, 9], [10, 9], [10, 9], [11, 9], [10, 10]]\n",
      " Cluster 2: [[12, 11], [13, 12], [11, 11], [11, 12], [9, 12]]\n"
     ]
    },
    {
     "data": {
      "image/png": "[encoded data removed]",
      "text/plain": [
       "<Figure size 432x288 with 1 Axes>"
      ]
     },
     "metadata": {
      "needs_background": "light"
     },
     "output_type": "display_data"
    }
   ],
   "source": [
    "## TODO: Visualization (2 clusters)\n",
    "cluster1_int = []\n",
    "cluster2_int = []\n",
    "\n",
    "for item in cluster1:\n",
    "    X, Y, i = item.split(\",\")\n",
    "    point = [int(X), int(Y)]\n",
    "    cluster1_int.append( point  )\n",
    "\n",
    "for item in cluster2:\n",
    "    X, Y, i = item.split(\",\")\n",
    "    point = [int(X), int(Y)]\n",
    "    cluster2_int.append( point  )\n",
    "\n",
    "A = np.array( cluster1_int)\n",
    "B = np.array( cluster2_int) \n",
    "C = np.concatenate( (A, B), axis=0)\n",
    "\n",
    "colormap = np.array([ 'red', 'blue'])\n",
    "categories = np.array([0,0,0,0,0,0,0,0,1,1,1,1])\n",
    "plt.scatter( C[:,0] , C[:, 1], c=colormap[categories])\n",
    "\n",
    "print(f' Cluster 1: {cluster1_int}')\n",
    "print(f' Cluster 2: {cluster2_int}')"
   ]
  },
  {
   "cell_type": "markdown",
   "metadata": {},
   "source": [
    "Evaluation: Final centroids (10.2, 11.6) and (10.14, 9.14)"
   ]
  },
  {
   "cell_type": "code",
   "execution_count": 207,
   "metadata": {},
   "outputs": [
    {
     "name": "stdout",
     "output_type": "stream",
     "text": [
      "SSE for centroid (10.2,11.6) and (10.14, 9.14) is: 55.795999999999985\n"
     ]
    }
   ],
   "source": [
    "SSE = 0\n",
    "for item in cluster1_int:\n",
    "    x, y = item\n",
    "    SSE += ( (int(x)- 10.2)**2 +(int(y) - 11.6)**2 )\n",
    "\n",
    "for item in cluster2_int:\n",
    "    X, Y = item\n",
    "    SSE += ( (int(x)- 10.14)**2 +(int(y) - 9.14)**2 )\n",
    "    \n",
    "print(f'SSE for centroid (10.2,11.6) and (10.14, 9.14) is: {SSE}')"
   ]
  },
  {
   "cell_type": "markdown",
   "metadata": {},
   "source": [
    "### Q2: Compare Features"
   ]
  },
  {
   "cell_type": "code",
   "execution_count": 9,
   "metadata": {},
   "outputs": [
    {
     "data": {
      "text/plain": [
       "<matplotlib.collections.PathCollection at 0x7fbc0985f890>"
      ]
     },
     "execution_count": 9,
     "metadata": {},
     "output_type": "execute_result"
    },
    {
     "data": {
      "image/png": "[encoded data removed]",
      "text/plain": [
       "<Figure size 432x288 with 1 Axes>"
      ]
     },
     "metadata": {
      "needs_background": "light"
     },
     "output_type": "display_data"
    }
   ],
   "source": [
    "plt.scatter(X[:,2], X[:,3])"
   ]
  },
  {
   "cell_type": "markdown",
   "metadata": {},
   "source": [
    "Initial centroids: (1, 1) and (25, 25), Manhattan distance"
   ]
  },
  {
   "cell_type": "code",
   "execution_count": 217,
   "metadata": {},
   "outputs": [
    {
     "data": {
      "text/plain": [
       "array([[12, 11,  2,  4],\n",
       "       [13, 12,  1,  1],\n",
       "       [ 8,  9, 22, 16],\n",
       "       [12,  9,  3, 18],\n",
       "       [10,  9,  8, 14],\n",
       "       [10,  9,  8, 14],\n",
       "       [11, 11,  7,  5],\n",
       "       [11, 12,  4,  2],\n",
       "       [10,  9, 13, 17],\n",
       "       [11,  9,  5, 15],\n",
       "       [10, 10, 11, 13],\n",
       "       [ 9, 12, 23,  6]])"
      ]
     },
     "execution_count": 217,
     "metadata": {},
     "output_type": "execute_result"
    }
   ],
   "source": [
    "X = np.array(instances)\n",
    "X"
   ]
  },
  {
   "cell_type": "code",
   "execution_count": 218,
   "metadata": {},
   "outputs": [
    {
     "name": "stdout",
     "output_type": "stream",
     "text": [
      "['2,4,0', '1,1,1', '3,18,3', '8,14,4', '8,14,5', '7,5,6', '4,2,7', '5,15,9']\n",
      "['22,16,2', '13,17,8', '11,13,10', '23,6,11']\n",
      "Final centroid: [4.75, 9.125]\n",
      "Final centroid: [17.25, 13.0]\n"
     ]
    }
   ],
   "source": [
    "## TODO: K Means clustering (K = 2, Manhattan distance)\n",
    "\n",
    "# set initial centroids\n",
    "C1 = [1, 1]\n",
    "C2 = [25, 25]\n",
    "    \n",
    "# initialize dictionary\n",
    "dict = {}\n",
    "for i in range( len(X)):\n",
    "    point = str(X[i, 2]) + \",\" + str(X[i, 3]) + \",\" + str(i)\n",
    "    dict[point] = [0, 0, 0]\n",
    "\n",
    "cluster1 = []\n",
    "cluster2 = []\n",
    "clust1_copy = []\n",
    "clust2_copy = []\n",
    "change = True\n",
    "iterations = 0\n",
    "\n",
    "while change == True:\n",
    "\n",
    "    cluster1.clear()\n",
    "    cluster2.clear()\n",
    "    # keep all Manhattan distances D1, D2 from point to C1, C2 in dict\n",
    "    # in form dict[ point] = [ D1, D2]\n",
    "    for i,point in enumerate(dict.keys()):\n",
    "        distance1 = abs(X[i, 2]- C1[0]) + abs(X[i, 3] - C1[1] )\n",
    "        distance2 = abs(X[i, 2]- C2[0]) + abs(X[i, 3] - C2[1] )\n",
    "        dict[point][0] = distance1\n",
    "        dict[point][1] = distance2\n",
    "    \n",
    "        if distance1 < distance2:\n",
    "            cluster1.append( point)\n",
    "        else:\n",
    "            cluster2.append( point)\n",
    "        \n",
    "        \n",
    "     # look to see if clustering changed\n",
    "    if clust1_copy == cluster1 and clust2_copy == cluster2 and iterations > 0:\n",
    "        change = False\n",
    "        \n",
    "    clust1_copy = cluster1\n",
    "    clust2_copy = cluster2\n",
    "    \n",
    "    # recalculate centroids\n",
    "    C1 = calculate_centroid( cluster1 )\n",
    "    C2 = calculate_centroid( cluster2 )\n",
    "    iterations += 1\n",
    " \n",
    "print(cluster1)\n",
    "print(cluster2)\n",
    "print(f'Final centroid: {C1}')\n",
    "print(f'Final centroid: {C2}')"
   ]
  },
  {
   "cell_type": "code",
   "execution_count": 214,
   "metadata": {},
   "outputs": [
    {
     "name": "stdout",
     "output_type": "stream",
     "text": [
      " Cluster 1: [[2, 4], [1, 1], [3, 18], [8, 14], [8, 14], [7, 5], [4, 2], [5, 15]]\n",
      " Cluster 2: [[22, 16], [13, 17], [11, 13], [23, 6]]\n"
     ]
    },
    {
     "data": {
      "image/png": "[encoded data removed]",
      "text/plain": [
       "<Figure size 432x288 with 1 Axes>"
      ]
     },
     "metadata": {
      "needs_background": "light"
     },
     "output_type": "display_data"
    }
   ],
   "source": [
    "## TODO: Visualization (2 clusters)\n",
    "cluster1_int = []\n",
    "cluster2_int = []\n",
    "\n",
    "for item in cluster1:\n",
    "    X, Y, i = item.split(\",\")\n",
    "    point = [int(X), int(Y)]\n",
    "    cluster1_int.append( point  )\n",
    "\n",
    "for item in cluster2:\n",
    "    X, Y, i = item.split(\",\")\n",
    "    point = [int(X), int(Y)]\n",
    "    cluster2_int.append( point  )\n",
    "\n",
    "A = np.array( cluster1_int)\n",
    "B = np.array( cluster2_int) \n",
    "C = np.concatenate( (A, B), axis=0)\n",
    "\n",
    "colormap = np.array([ 'red', 'blue'])\n",
    "categories = np.array([0,0,0,0,0,0,0,0,1,1,1,1])\n",
    "plt.scatter( C[:,0] , C[:, 1], c=colormap[categories])\n",
    "\n",
    "print(f' Cluster 1: {cluster1_int}')\n",
    "print(f' Cluster 2: {cluster2_int}')\n",
    "\n"
   ]
  },
  {
   "cell_type": "markdown",
   "metadata": {},
   "source": [
    "Evaluation: SSE for centroids (17.25) and (4.75,9.124) based on features Rank 2015 and Rank 2017"
   ]
  },
  {
   "cell_type": "code",
   "execution_count": 230,
   "metadata": {},
   "outputs": [
    {
     "name": "stdout",
     "output_type": "stream",
     "text": [
      "SSE for centroid (17.25, 13.0) and (4.75, 9.124) is: 559.125008\n"
     ]
    }
   ],
   "source": [
    "SSE = 0\n",
    "for item in cluster1_int:\n",
    "    x, y = item\n",
    "    SSE += ( (int(x)- 4.75 )**2 +(int(y) - 9.124)**2 )\n",
    "\n",
    "for item in cluster2_int:\n",
    "    x, y = item\n",
    "    SSE += ( (int(x)- 17.25)**2 +(int(y) - 13.0)**2 )\n",
    "    \n",
    "print(f'SSE for centroid (17.25, 13.0) and (4.75, 9.124) is: {SSE}')"
   ]
  },
  {
   "cell_type": "markdown",
   "metadata": {},
   "source": [
    "### Q3: Choose a good K"
   ]
  },
  {
   "cell_type": "code",
   "execution_count": 12,
   "metadata": {},
   "outputs": [
    {
     "data": {
      "text/plain": [
       "<matplotlib.collections.PathCollection at 0x7fbc099b5d10>"
      ]
     },
     "execution_count": 12,
     "metadata": {},
     "output_type": "execute_result"
    },
    {
     "data": {
      "image/png": "[encoded data removed]",
      "text/plain": [
       "<Figure size 432x288 with 1 Axes>"
      ]
     },
     "metadata": {
      "needs_background": "light"
     },
     "output_type": "display_data"
    }
   ],
   "source": [
    "plt.scatter(X[:,2], X[:,3])"
   ]
  },
  {
   "cell_type": "markdown",
   "metadata": {},
   "source": [
    "Suppose K = 3. Specify three initial centroids by yourself. Manhattan distance."
   ]
  },
  {
   "cell_type": "code",
   "execution_count": 223,
   "metadata": {},
   "outputs": [
    {
     "data": {
      "text/plain": [
       "array([[12, 11,  2,  4],\n",
       "       [13, 12,  1,  1],\n",
       "       [ 8,  9, 22, 16],\n",
       "       [12,  9,  3, 18],\n",
       "       [10,  9,  8, 14],\n",
       "       [10,  9,  8, 14],\n",
       "       [11, 11,  7,  5],\n",
       "       [11, 12,  4,  2],\n",
       "       [10,  9, 13, 17],\n",
       "       [11,  9,  5, 15],\n",
       "       [10, 10, 11, 13],\n",
       "       [ 9, 12, 23,  6]])"
      ]
     },
     "execution_count": 223,
     "metadata": {},
     "output_type": "execute_result"
    }
   ],
   "source": [
    "X = np.array(instances)\n",
    "X"
   ]
  },
  {
   "cell_type": "code",
   "execution_count": 225,
   "metadata": {
    "scrolled": true
   },
   "outputs": [
    {
     "name": "stdout",
     "output_type": "stream",
     "text": [
      "['2,4,0', '1,1,1', '7,5,6', '4,2,7']\n",
      "['3,18,3', '8,14,4', '8,14,5', '13,17,8', '5,15,9', '11,13,10']\n",
      "['22,16,2', '23,6,11']\n",
      "2\n",
      "Centroid 1: [3.5, 3.0]\n",
      "Centroid 2: [8.0, 15.166666666666666]\n",
      "Centroid 3: [22.5, 11.0]\n"
     ]
    }
   ],
   "source": [
    "## TODO: K Means clustering (K = 3, Manhattan distance)\n",
    "\n",
    "# set initial centroids\n",
    "C1 = [5, 5]\n",
    "C2 = [10, 15]\n",
    "C3 = [20,10]\n",
    "# initialize dictionary\n",
    "dict = {}\n",
    "for i in range( len(X)):\n",
    "    point = str(X[i, 2]) + \",\" + str(X[i, 3]) + \",\" + str(i)\n",
    "    #print(point)\n",
    "    dict[point] = [0, 0, 0]\n",
    "\n",
    "cluster1 = []\n",
    "cluster2 = []\n",
    "cluster3 = []\n",
    "clust1_copy = []\n",
    "clust2_copy = []\n",
    "clust3_copy = []\n",
    "change = True\n",
    "iterations = 0\n",
    "\n",
    "while change == True:\n",
    "\n",
    "    cluster1.clear()\n",
    "    cluster2.clear()\n",
    "    cluster3.clear()\n",
    "    \n",
    "    # keep all Manhattan distances D1, D2 from point to C1, C2 in dict\n",
    "    # in form dict[ point] = [ D1, D2]\n",
    "    for i,point in enumerate(dict.keys()):\n",
    "        distance1 = abs(X[i, 2]- C1[0]) + abs(X[i, 3] - C1[1] )\n",
    "        distance2 = abs(X[i, 2]- C2[0]) + abs(X[i, 3] - C2[1] )\n",
    "        distance3 = abs(X[i, 2]- C3[0]) + abs(X[i, 3] - C3[1])\n",
    "        dict[point][0] = distance1\n",
    "        dict[point][1] = distance2\n",
    "        dict[point][2] = distance3\n",
    "    \n",
    "        min_distance = min( distance1, distance2, distance3)\n",
    "        \n",
    "        if min_distance == distance3:\n",
    "            cluster3.append(point)\n",
    "        elif min_distance == distance2:\n",
    "            cluster2.append( point)\n",
    "        else:\n",
    "            cluster1.append( point)\n",
    "        \n",
    "        \n",
    "     # look to see if clustering changed\n",
    "    if clust1_copy == cluster1 and clust2_copy == cluster2 and iterations > 0:\n",
    "        change = False\n",
    "        \n",
    "    clust1_copy = cluster1\n",
    "    clust2_copy = cluster2\n",
    "    clust3_copy = cluster2\n",
    "    \n",
    "    # recalculate centroids\n",
    "    C1 = calculate_centroid( cluster1 )\n",
    "    C2 = calculate_centroid( cluster2 )\n",
    "    C3 = calculate_centroid( cluster3 )\n",
    "    iterations += 1\n",
    " \n",
    "print(cluster1)\n",
    "print(cluster2)\n",
    "print(cluster3)\n",
    "print(iterations)\n",
    "print(f'Centroid 1: {C1}')\n",
    "print(f'Centroid 2: {C2}')\n",
    "print(f'Centroid 3: {C3}')"
   ]
  },
  {
   "cell_type": "code",
   "execution_count": 157,
   "metadata": {},
   "outputs": [],
   "source": [
    "def process_cluster( cluster):\n",
    "    cluster_int = []\n",
    "    for item in cluster:\n",
    "        X, Y, i = item.split(\",\")\n",
    "        point = [int(X), int(Y)]\n",
    "        cluster_int.append( point  )\n",
    "        \n",
    "    return cluster_int"
   ]
  },
  {
   "cell_type": "code",
   "execution_count": 164,
   "metadata": {},
   "outputs": [
    {
     "name": "stdout",
     "output_type": "stream",
     "text": [
      " Cluster 1: [[2, 4], [1, 1], [7, 5], [4, 2]]\n",
      " Cluster 2: [[3, 18], [8, 14], [8, 14], [13, 17], [5, 15], [11, 13]]\n",
      " Cluster 3: [[22, 16], [23, 6]]\n"
     ]
    },
    {
     "data": {
      "text/plain": [
       "<matplotlib.collections.PathCollection at 0x12269b0d0>"
      ]
     },
     "execution_count": 164,
     "metadata": {},
     "output_type": "execute_result"
    },
    {
     "data": {
      "image/png": "[encoded data removed]",
      "text/plain": [
       "<Figure size 432x288 with 1 Axes>"
      ]
     },
     "metadata": {
      "needs_background": "light"
     },
     "output_type": "display_data"
    }
   ],
   "source": [
    "## TODO: Visualization (3 clusters)\n",
    "clust1_int = process_cluster( cluster1)\n",
    "clust2_int = process_cluster( cluster2)\n",
    "clust3_int = process_cluster( cluster3)\n",
    "\n",
    "A = np.array( clust1_int)\n",
    "B = np.array( clust2_int) \n",
    "C = np.array( clust3_int )\n",
    "D = np.concatenate( (A, B, C), axis=0)\n",
    "\n",
    "print(f' Cluster 1: {clust1_int}')\n",
    "print(f' Cluster 2: {clust2_int}')\n",
    "print(f' Cluster 3: {clust3_int}')\n",
    "\n",
    "colormap = np.array([ 'red', 'blue', 'green'])\n",
    "categories = np.array([0,0,0,0,1,1,1,1,1,1,2,2])\n",
    "plt.scatter( D[:,0] , D[:, 1], c=colormap[categories])\n"
   ]
  },
  {
   "cell_type": "markdown",
   "metadata": {},
   "source": [
    "Evaluation: SSE with centroids (3.5, 3.0) (8.0, 15.166666666666666) (22.5, 11.0)"
   ]
  },
  {
   "cell_type": "code",
   "execution_count": 229,
   "metadata": {},
   "outputs": [
    {
     "name": "stdout",
     "output_type": "stream",
     "text": [
      "SSE for centroid (3.5, 3.0) and (8.0, 15.2) and (22.5, 11) is: 168.34\n"
     ]
    }
   ],
   "source": [
    "SSE = 0\n",
    "for item in clust1_int:\n",
    "    x, y = item\n",
    "    SSE += ( (int(x)- 3.5 )**2 +(int(y) - 3.0)**2 )\n",
    "\n",
    "for item in clust2_int:\n",
    "    x,y = item\n",
    "    SSE += ( (int(x)- 8.0)**2 +(int(y) - 15.2)**2 )\n",
    "    \n",
    "for item in clust3_int:\n",
    "    x, y = item\n",
    "    SSE += ( (int(x)- 22.5)**2 +(int(y) - 11.0)**2 )\n",
    "    \n",
    "print(f'SSE for centroid (3.5, 3.0) and (8.0, 15.2) and (22.5, 11) is: {SSE}')"
   ]
  },
  {
   "cell_type": "code",
   "execution_count": null,
   "metadata": {},
   "outputs": [],
   "source": []
  }
 ],
 "metadata": {
  "kernelspec": {
   "display_name": "Python 3 (ipykernel)",
   "language": "python",
   "name": "python3"
  },
  "language_info": {
   "codemirror_mode": {
    "name": "ipython",
    "version": 3
   },
   "file_extension": ".py",
   "mimetype": "text/x-python",
   "name": "python",
   "nbconvert_exporter": "python",
   "pygments_lexer": "ipython3",
   "version": "3.9.1"
  }
 },
 "nbformat": 4,
 "nbformat_minor": 4
}
